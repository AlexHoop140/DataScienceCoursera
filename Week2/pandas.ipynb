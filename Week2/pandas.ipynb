{
 "cells": [
  {
   "cell_type": "markdown",
   "id": "a29e3df1",
   "metadata": {},
   "source": [
    "## Pandas Series"
   ]
  },
  {
   "cell_type": "code",
   "execution_count": 2,
   "id": "0c3d4673",
   "metadata": {},
   "outputs": [],
   "source": [
    "import pandas as pd"
   ]
  },
  {
   "cell_type": "code",
   "execution_count": 3,
   "id": "268ef2a9",
   "metadata": {},
   "outputs": [
    {
     "data": {
      "text/plain": [
       "0    Alice\n",
       "1     Jack\n",
       "2    Molly\n",
       "dtype: object"
      ]
     },
     "execution_count": 3,
     "metadata": {},
     "output_type": "execute_result"
    }
   ],
   "source": [
    "# You can create a series by passing in a list of values. \n",
    "# When uou do this, Pandas automatically assigns an index starting with zero ans sets the name of\n",
    "# the series to None. \n",
    "\n",
    "# One of the easiest ways to create a series is to use an array-list object.\n",
    "# Like a list\n",
    "\n",
    "students = ['Alice', 'Jack', 'Molly']\n",
    "\n",
    "# Call the Series function in pandas and pass in the students\n",
    "pd.Series(students)"
   ]
  },
  {
   "cell_type": "code",
   "execution_count": 4,
   "id": "e409c776",
   "metadata": {},
   "outputs": [
    {
     "data": {
      "text/plain": [
       "0    1\n",
       "1    2\n",
       "2    3\n",
       "dtype: int64"
      ]
     },
     "execution_count": 4,
     "metadata": {},
     "output_type": "execute_result"
    }
   ],
   "source": [
    "# We dont have to use strings. If we passed in a list of whole numbers. For instance,\n",
    "# we could see that panda sets the typr to int64. Underneath panda nstores series value in a\n",
    "# typed array using numpy library. This offer significant speedup when processing dada\n",
    "# versus traditional python lists.\n",
    "\n",
    "# Let's create a little list of numbers\n",
    "numbers = [1,2,3]\n",
    "# And turn that in to a series\n",
    "pd.Series(numbers)\n"
   ]
  },
  {
   "cell_type": "code",
   "execution_count": 5,
   "id": "e814daf5",
   "metadata": {},
   "outputs": [
    {
     "data": {
      "text/plain": [
       "0    Alex\n",
       "1    Jack\n",
       "2    None\n",
       "dtype: object"
      ]
     },
     "execution_count": 5,
     "metadata": {},
     "output_type": "execute_result"
    }
   ],
   "source": [
    "# There 's some other typing details that exist for performance that are important to know.\n",
    "# The most important is how numpy and thus panda handle missing data\n",
    "\n",
    "# In python, we have none type to indicate a lack of data. But what do we do if we want\n",
    "# to have a typed list like we do in the series object?\n",
    "\n",
    "# Underneath, pandas does some type conversion. If we create a list of strings and we have\n",
    "# one element, a None type, pandas inserts it as a None and uses the type object for the underlying array.\n",
    "\n",
    "students = ['Alex', 'Jack', None]\n",
    "# And lets convert this to a series\n",
    "pd.Series(students)"
   ]
  },
  {
   "cell_type": "code",
   "execution_count": 6,
   "id": "bd461b16",
   "metadata": {},
   "outputs": [
    {
     "data": {
      "text/plain": [
       "0    1.0\n",
       "1    2.0\n",
       "2    NaN\n",
       "dtype: float64"
      ]
     },
     "execution_count": 6,
     "metadata": {},
     "output_type": "execute_result"
    }
   ],
   "source": [
    "# If we create a list of numbers, integers or floats, and put in the None type. Pandas automatically converts this to a special floating point\n",
    "# value designed as NaN, which stands for Not a number\n",
    "numbers = [1,2,None]\n",
    "pd.Series(numbers)"
   ]
  },
  {
   "cell_type": "code",
   "execution_count": 7,
   "id": "1233793e",
   "metadata": {},
   "outputs": [],
   "source": [
    "# Notice couple of things. First, NaN is a different value. Second, pandas set the dtype\n",
    "# of this series to floating point numbers instead of object or ints. That's\n",
    "# maybe a bit of suprise. Why not just leave this as an integer? Underneath, pandas represents NaN as a floating point number\n",
    "# and because integers can be typecast to floats, pandas went and converted our integers to floats.\n"
   ]
  },
  {
   "cell_type": "code",
   "execution_count": 8,
   "id": "25bda920",
   "metadata": {},
   "outputs": [
    {
     "data": {
      "text/plain": [
       "False"
      ]
     },
     "execution_count": 8,
     "metadata": {},
     "output_type": "execute_result"
    }
   ],
   "source": [
    "# NaN is \"NOT\" equivilent to None and when we try the equality test, the result is False.\n",
    "\n",
    "# Lets bring in numpy which allows us to generate an NaN value\n",
    "import numpy as np\n",
    "np.nan == None"
   ]
  },
  {
   "cell_type": "code",
   "execution_count": 9,
   "id": "3899eb77",
   "metadata": {},
   "outputs": [
    {
     "data": {
      "text/plain": [
       "False"
      ]
     },
     "execution_count": 9,
     "metadata": {},
     "output_type": "execute_result"
    }
   ],
   "source": [
    "# You cant do an equality test of NaN to itself, when you do, the answer is always False\n",
    "np.nan == np.nan"
   ]
  },
  {
   "cell_type": "code",
   "execution_count": 10,
   "id": "3c08f00a",
   "metadata": {},
   "outputs": [
    {
     "data": {
      "text/plain": [
       "True"
      ]
     },
     "execution_count": 10,
     "metadata": {},
     "output_type": "execute_result"
    }
   ],
   "source": [
    "# Instead, you need to use a specia functions to test for the presence of not a number\n",
    "# such as the Numpy library isnan()\n",
    "\n",
    "np.isnan(np.nan)"
   ]
  },
  {
   "cell_type": "code",
   "execution_count": 11,
   "id": "ab4ef9a6",
   "metadata": {},
   "outputs": [],
   "source": [
    "# So NaN means similar to None, but it's a numeric value and treated differntly for efficiency reasons.\n"
   ]
  },
  {
   "cell_type": "code",
   "execution_count": 12,
   "id": "32ea6a3f",
   "metadata": {},
   "outputs": [
    {
     "data": {
      "text/plain": [
       "Alice      Physics\n",
       "Jack     Chemistry\n",
       "Molly      English\n",
       "dtype: object"
      ]
     },
     "execution_count": 12,
     "metadata": {},
     "output_type": "execute_result"
    }
   ],
   "source": [
    "# Let's talk more about pandas' Series can be created. While my list might be a common\n",
    "# way to create some play data. Often you have label data that you want to manipulate\n",
    "# A series can be created directly from dictionary data. If you do this, the index is \n",
    "# automatically assigned to the keys of the dictionary that you provided and not just\n",
    "# incrementing integers.\n",
    "\n",
    "# Some examples\n",
    "\n",
    "students_score = {'Alice': 'Physics',\n",
    "                 'Jack': 'Chemistry',\n",
    "                 'Molly': 'English'}\n",
    "s = pd.Series(students_score)\n",
    "s\n"
   ]
  },
  {
   "cell_type": "code",
   "execution_count": 13,
   "id": "70fd1a2d",
   "metadata": {},
   "outputs": [],
   "source": [
    "# We see that, since it was string data, pandas set the data type of the series to \"object\"\n",
    "# We see that the index, the first column, is also a list of Strings"
   ]
  },
  {
   "cell_type": "code",
   "execution_count": 14,
   "id": "f18a2a09",
   "metadata": {},
   "outputs": [
    {
     "data": {
      "text/plain": [
       "Index(['Alice', 'Jack', 'Molly'], dtype='object')"
      ]
     },
     "execution_count": 14,
     "metadata": {},
     "output_type": "execute_result"
    }
   ],
   "source": [
    "# Once the series has been created, we can get the index object using the index attribute\n",
    "\n",
    "s.index"
   ]
  },
  {
   "cell_type": "code",
   "execution_count": 15,
   "id": "640f613d",
   "metadata": {},
   "outputs": [
    {
     "data": {
      "text/plain": [
       "0    (Alice, Brown)\n",
       "1     (Jack, White)\n",
       "2    (Molly, Green)\n",
       "dtype: object"
      ]
     },
     "execution_count": 15,
     "metadata": {},
     "output_type": "execute_result"
    }
   ],
   "source": [
    "# The dtype object is not just for strings, but for arbinary objects. Lets create a more complex\n",
    "# type of data, sa a list of tuples\n",
    "students = [(\"Alice\", \"Brown\"), (\"Jack\",\"White\"), (\"Molly\", \"Green\")]\n",
    "pd.Series(students)"
   ]
  },
  {
   "cell_type": "code",
   "execution_count": 16,
   "id": "05d46078",
   "metadata": {},
   "outputs": [
    {
     "data": {
      "text/plain": [
       "Alice      Physics\n",
       "Jack     Chemistry\n",
       "Molly      English\n",
       "dtype: object"
      ]
     },
     "execution_count": 16,
     "metadata": {},
     "output_type": "execute_result"
    }
   ],
   "source": [
    "# Separate your index creation from the data by passing in the index as a list\n",
    "# explicitly to the series\n",
    "s = pd.Series(['Physics', 'Chemistry','English'], index=['Alice','Jack','Molly'])\n",
    "s\n"
   ]
  },
  {
   "cell_type": "code",
   "execution_count": 17,
   "id": "bb8c375a",
   "metadata": {},
   "outputs": [
    {
     "data": {
      "text/plain": [
       "Alex          NaN\n",
       "Jack    Chemistry\n",
       "Sam           NaN\n",
       "dtype: object"
      ]
     },
     "execution_count": 17,
     "metadata": {},
     "output_type": "execute_result"
    }
   ],
   "source": [
    "# Pandas overrides the automatic creation to favor only and all of the indices\n",
    "# values that you provided. So it will ignore from your dictionary all keys\n",
    "# which are not in your index, and pandas will add None or NaN type values\n",
    "# for any index value you provide, which is not in your dictionary key list.\n",
    "\n",
    "# Example\n",
    "students_score = {'Alice': 'Physics',\n",
    "                 'Jack': 'Chemistry',\n",
    "                 'Molly': 'English'}\n",
    "# Create a series object excluding Jack\n",
    "s = pd.Series(students_score, index=['Alex', 'Jack', 'Sam'])\n",
    "s"
   ]
  },
  {
   "cell_type": "markdown",
   "id": "0bf12711",
   "metadata": {},
   "source": [
    "## Querying the Series"
   ]
  },
  {
   "cell_type": "code",
   "execution_count": 2,
   "id": "bc176abb",
   "metadata": {},
   "outputs": [
    {
     "data": {
      "text/plain": [
       "Alice      Physics\n",
       "Jack     Chemistry\n",
       "Molly      English\n",
       "Sam        History\n",
       "dtype: object"
      ]
     },
     "execution_count": 2,
     "metadata": {},
     "output_type": "execute_result"
    }
   ],
   "source": [
    "# A pandas Series can be queried either by the index position or the index label. If you dont give an\n",
    "# index to the series when querying, the position and the label are effectively the same values\n",
    "# query by numeric location, starting at zero, use the iloc attribute. To query by the index label,\n",
    "# you can use the loc attribute\n",
    "\n",
    "# Let's start with an example. We'll use students enrolled in classes coming from a dictionary\n",
    "import pandas as pd\n",
    "students_classes = {'Alice': 'Physics',\n",
    "                  'Jack': 'Chemistry',\n",
    "                  'Molly': 'English',\n",
    "                  'Sam': 'History'}\n",
    "s = pd.Series(students_classes)\n",
    "s"
   ]
  },
  {
   "cell_type": "code",
   "execution_count": 3,
   "id": "e16be544",
   "metadata": {},
   "outputs": [
    {
     "data": {
      "text/plain": [
       "'History'"
      ]
     },
     "execution_count": 3,
     "metadata": {},
     "output_type": "execute_result"
    }
   ],
   "source": [
    "# So, for this series. If you want to see the fourth entry we could use the\n",
    "# iloc attribuet with the parameter 3\n",
    "s.iloc[3]"
   ]
  },
  {
   "cell_type": "code",
   "execution_count": 5,
   "id": "b3b7610a",
   "metadata": {},
   "outputs": [
    {
     "data": {
      "text/plain": [
       "'English'"
      ]
     },
     "execution_count": 5,
     "metadata": {},
     "output_type": "execute_result"
    }
   ],
   "source": [
    "# If you want to see what class Molly has, we could use the loc attribute with\n",
    "# a parameter of Molly\n",
    "s.loc['Molly']"
   ]
  },
  {
   "cell_type": "code",
   "execution_count": 6,
   "id": "6b8d80e5",
   "metadata": {},
   "outputs": [],
   "source": [
    "# iloc and loc are not methods, they are attribute. So you dont ise parentheses to query them,\n",
    "# but square brackets instead, which is called the indexing operator.\n",
    "# In python, this calls get or set for an item depending on the context of its use\n"
   ]
  },
  {
   "cell_type": "code",
   "execution_count": 7,
   "id": "779ba975",
   "metadata": {},
   "outputs": [
    {
     "data": {
      "text/plain": [
       "'History'"
      ]
     },
     "execution_count": 7,
     "metadata": {},
     "output_type": "execute_result"
    }
   ],
   "source": [
    "# Pandas tries to amke our code a bit more readable and provides a sort of smart syntax\n",
    "# using the indexing operator directly on the series itself. For instance, if you pass \n",
    "# in an integer parameter, the operator will behave as if you want it to query via the iloc attribute\n",
    "s[3]"
   ]
  },
  {
   "cell_type": "code",
   "execution_count": 8,
   "id": "ab20f6ca",
   "metadata": {},
   "outputs": [
    {
     "data": {
      "text/plain": [
       "'English'"
      ]
     },
     "execution_count": 8,
     "metadata": {},
     "output_type": "execute_result"
    }
   ],
   "source": [
    "# If you pass in an object, it will query as if you wanted to use the label based on loc attribute\n",
    "s['Molly']"
   ]
  },
  {
   "cell_type": "code",
   "execution_count": 9,
   "id": "2e017a57",
   "metadata": {},
   "outputs": [],
   "source": [
    "# Pandas cant determine automactically whether you're intending to query by index\n",
    "# position or index label. So you need to be careful when using the indexing operator \n",
    "# on the Series itself. The safer option us to be more explicit and use the iloc or loc attribute directly.\n",
    "\n",
    "# Indexing by classcode form of integer\n",
    "class_code = {99: 'Physics',\n",
    "             100: 'Chemistry',\n",
    "             101: 'English',\n",
    "             102: 'History'}\n",
    "s = pd.Series(class_code)"
   ]
  },
  {
   "cell_type": "code",
   "execution_count": 10,
   "id": "03d84b8b",
   "metadata": {},
   "outputs": [
    {
     "ename": "KeyError",
     "evalue": "0",
     "output_type": "error",
     "traceback": [
      "\u001b[1;31m---------------------------------------------------------------------------\u001b[0m",
      "\u001b[1;31mKeyError\u001b[0m                                  Traceback (most recent call last)",
      "\u001b[1;32m~\\anaconda3\\lib\\site-packages\\pandas\\core\\indexes\\base.py\u001b[0m in \u001b[0;36mget_loc\u001b[1;34m(self, key, method, tolerance)\u001b[0m\n\u001b[0;32m   3079\u001b[0m             \u001b[1;32mtry\u001b[0m\u001b[1;33m:\u001b[0m\u001b[1;33m\u001b[0m\u001b[1;33m\u001b[0m\u001b[0m\n\u001b[1;32m-> 3080\u001b[1;33m                 \u001b[1;32mreturn\u001b[0m \u001b[0mself\u001b[0m\u001b[1;33m.\u001b[0m\u001b[0m_engine\u001b[0m\u001b[1;33m.\u001b[0m\u001b[0mget_loc\u001b[0m\u001b[1;33m(\u001b[0m\u001b[0mcasted_key\u001b[0m\u001b[1;33m)\u001b[0m\u001b[1;33m\u001b[0m\u001b[1;33m\u001b[0m\u001b[0m\n\u001b[0m\u001b[0;32m   3081\u001b[0m             \u001b[1;32mexcept\u001b[0m \u001b[0mKeyError\u001b[0m \u001b[1;32mas\u001b[0m \u001b[0merr\u001b[0m\u001b[1;33m:\u001b[0m\u001b[1;33m\u001b[0m\u001b[1;33m\u001b[0m\u001b[0m\n",
      "\u001b[1;32mpandas\\_libs\\index.pyx\u001b[0m in \u001b[0;36mpandas._libs.index.IndexEngine.get_loc\u001b[1;34m()\u001b[0m\n",
      "\u001b[1;32mpandas\\_libs\\index.pyx\u001b[0m in \u001b[0;36mpandas._libs.index.IndexEngine.get_loc\u001b[1;34m()\u001b[0m\n",
      "\u001b[1;32mpandas\\_libs\\hashtable_class_helper.pxi\u001b[0m in \u001b[0;36mpandas._libs.hashtable.Int64HashTable.get_item\u001b[1;34m()\u001b[0m\n",
      "\u001b[1;32mpandas\\_libs\\hashtable_class_helper.pxi\u001b[0m in \u001b[0;36mpandas._libs.hashtable.Int64HashTable.get_item\u001b[1;34m()\u001b[0m\n",
      "\u001b[1;31mKeyError\u001b[0m: 0",
      "\nThe above exception was the direct cause of the following exception:\n",
      "\u001b[1;31mKeyError\u001b[0m                                  Traceback (most recent call last)",
      "\u001b[1;32m<ipython-input-10-f7d7e63adb7f>\u001b[0m in \u001b[0;36m<module>\u001b[1;34m\u001b[0m\n\u001b[0;32m      1\u001b[0m \u001b[1;31m# If we try and call s[0] we get a key error because ther's no item in the classes list with\u001b[0m\u001b[1;33m\u001b[0m\u001b[1;33m\u001b[0m\u001b[1;33m\u001b[0m\u001b[0m\n\u001b[0;32m      2\u001b[0m \u001b[1;31m# an index of zero, instead we have to call iloc explicitly if we want the first item.\u001b[0m\u001b[1;33m\u001b[0m\u001b[1;33m\u001b[0m\u001b[1;33m\u001b[0m\u001b[0m\n\u001b[1;32m----> 3\u001b[1;33m \u001b[0ms\u001b[0m\u001b[1;33m[\u001b[0m\u001b[1;36m0\u001b[0m\u001b[1;33m]\u001b[0m\u001b[1;33m\u001b[0m\u001b[1;33m\u001b[0m\u001b[0m\n\u001b[0m",
      "\u001b[1;32m~\\anaconda3\\lib\\site-packages\\pandas\\core\\series.py\u001b[0m in \u001b[0;36m__getitem__\u001b[1;34m(self, key)\u001b[0m\n\u001b[0;32m    851\u001b[0m \u001b[1;33m\u001b[0m\u001b[0m\n\u001b[0;32m    852\u001b[0m         \u001b[1;32melif\u001b[0m \u001b[0mkey_is_scalar\u001b[0m\u001b[1;33m:\u001b[0m\u001b[1;33m\u001b[0m\u001b[1;33m\u001b[0m\u001b[0m\n\u001b[1;32m--> 853\u001b[1;33m             \u001b[1;32mreturn\u001b[0m \u001b[0mself\u001b[0m\u001b[1;33m.\u001b[0m\u001b[0m_get_value\u001b[0m\u001b[1;33m(\u001b[0m\u001b[0mkey\u001b[0m\u001b[1;33m)\u001b[0m\u001b[1;33m\u001b[0m\u001b[1;33m\u001b[0m\u001b[0m\n\u001b[0m\u001b[0;32m    854\u001b[0m \u001b[1;33m\u001b[0m\u001b[0m\n\u001b[0;32m    855\u001b[0m         \u001b[1;32mif\u001b[0m \u001b[0mis_hashable\u001b[0m\u001b[1;33m(\u001b[0m\u001b[0mkey\u001b[0m\u001b[1;33m)\u001b[0m\u001b[1;33m:\u001b[0m\u001b[1;33m\u001b[0m\u001b[1;33m\u001b[0m\u001b[0m\n",
      "\u001b[1;32m~\\anaconda3\\lib\\site-packages\\pandas\\core\\series.py\u001b[0m in \u001b[0;36m_get_value\u001b[1;34m(self, label, takeable)\u001b[0m\n\u001b[0;32m    959\u001b[0m \u001b[1;33m\u001b[0m\u001b[0m\n\u001b[0;32m    960\u001b[0m         \u001b[1;31m# Similar to Index.get_value, but we do not fall back to positional\u001b[0m\u001b[1;33m\u001b[0m\u001b[1;33m\u001b[0m\u001b[1;33m\u001b[0m\u001b[0m\n\u001b[1;32m--> 961\u001b[1;33m         \u001b[0mloc\u001b[0m \u001b[1;33m=\u001b[0m \u001b[0mself\u001b[0m\u001b[1;33m.\u001b[0m\u001b[0mindex\u001b[0m\u001b[1;33m.\u001b[0m\u001b[0mget_loc\u001b[0m\u001b[1;33m(\u001b[0m\u001b[0mlabel\u001b[0m\u001b[1;33m)\u001b[0m\u001b[1;33m\u001b[0m\u001b[1;33m\u001b[0m\u001b[0m\n\u001b[0m\u001b[0;32m    962\u001b[0m         \u001b[1;32mreturn\u001b[0m \u001b[0mself\u001b[0m\u001b[1;33m.\u001b[0m\u001b[0mindex\u001b[0m\u001b[1;33m.\u001b[0m\u001b[0m_get_values_for_loc\u001b[0m\u001b[1;33m(\u001b[0m\u001b[0mself\u001b[0m\u001b[1;33m,\u001b[0m \u001b[0mloc\u001b[0m\u001b[1;33m,\u001b[0m \u001b[0mlabel\u001b[0m\u001b[1;33m)\u001b[0m\u001b[1;33m\u001b[0m\u001b[1;33m\u001b[0m\u001b[0m\n\u001b[0;32m    963\u001b[0m \u001b[1;33m\u001b[0m\u001b[0m\n",
      "\u001b[1;32m~\\anaconda3\\lib\\site-packages\\pandas\\core\\indexes\\base.py\u001b[0m in \u001b[0;36mget_loc\u001b[1;34m(self, key, method, tolerance)\u001b[0m\n\u001b[0;32m   3080\u001b[0m                 \u001b[1;32mreturn\u001b[0m \u001b[0mself\u001b[0m\u001b[1;33m.\u001b[0m\u001b[0m_engine\u001b[0m\u001b[1;33m.\u001b[0m\u001b[0mget_loc\u001b[0m\u001b[1;33m(\u001b[0m\u001b[0mcasted_key\u001b[0m\u001b[1;33m)\u001b[0m\u001b[1;33m\u001b[0m\u001b[1;33m\u001b[0m\u001b[0m\n\u001b[0;32m   3081\u001b[0m             \u001b[1;32mexcept\u001b[0m \u001b[0mKeyError\u001b[0m \u001b[1;32mas\u001b[0m \u001b[0merr\u001b[0m\u001b[1;33m:\u001b[0m\u001b[1;33m\u001b[0m\u001b[1;33m\u001b[0m\u001b[0m\n\u001b[1;32m-> 3082\u001b[1;33m                 \u001b[1;32mraise\u001b[0m \u001b[0mKeyError\u001b[0m\u001b[1;33m(\u001b[0m\u001b[0mkey\u001b[0m\u001b[1;33m)\u001b[0m \u001b[1;32mfrom\u001b[0m \u001b[0merr\u001b[0m\u001b[1;33m\u001b[0m\u001b[1;33m\u001b[0m\u001b[0m\n\u001b[0m\u001b[0;32m   3083\u001b[0m \u001b[1;33m\u001b[0m\u001b[0m\n\u001b[0;32m   3084\u001b[0m         \u001b[1;32mif\u001b[0m \u001b[0mtolerance\u001b[0m \u001b[1;32mis\u001b[0m \u001b[1;32mnot\u001b[0m \u001b[1;32mNone\u001b[0m\u001b[1;33m:\u001b[0m\u001b[1;33m\u001b[0m\u001b[1;33m\u001b[0m\u001b[0m\n",
      "\u001b[1;31mKeyError\u001b[0m: 0"
     ]
    }
   ],
   "source": [
    "# If we try and call s[0] we get a key error because ther's no item in the classes list with\n",
    "# an index of zero, instead we have to call iloc explicitly if we want the first item.\n",
    "s[0]"
   ]
  },
  {
   "cell_type": "code",
   "execution_count": 11,
   "id": "59c6d1c4",
   "metadata": {},
   "outputs": [],
   "source": [
    "# So that didnt call s.iloc[0] underneath as one might expect, instead it\n",
    "# generates an error"
   ]
  },
  {
   "cell_type": "code",
   "execution_count": 13,
   "id": "e9123796",
   "metadata": {},
   "outputs": [],
   "source": [
    "# Now we know how to get data out of the series. A common task is to want \n",
    "# to consider all of the values inside of the series and do some sort of operations.\n",
    "# This could be trying to find a certain number, or summerizing data or transforming\n",
    "# the data in some way.\n"
   ]
  },
  {
   "cell_type": "code",
   "execution_count": 14,
   "id": "c7bc29ac",
   "metadata": {},
   "outputs": [
    {
     "name": "stdout",
     "output_type": "stream",
     "text": [
      "75.0\n"
     ]
    }
   ],
   "source": [
    "# A typical approach to this would be to iterate over all the items in the series,\n",
    "# and invoke the operation one is interested in. For instance, we could create a Series of\n",
    "# integers representing student grades, and just try and get an average grade\n",
    "\n",
    "grades = pd.Series([90,80,70,60])\n",
    "\n",
    "total = 0\n",
    "for grade in grades:\n",
    "    total+=grade\n",
    "print(total/len(grades))"
   ]
  },
  {
   "cell_type": "code",
   "execution_count": 15,
   "id": "b7f6224d",
   "metadata": {},
   "outputs": [],
   "source": [
    "# Pandas and the underlying numpy libraries support a method of computation called vectorization.\n",
    "# Vectorization works with most of the functions in the numpy library, including the sum function."
   ]
  },
  {
   "cell_type": "code",
   "execution_count": 16,
   "id": "e7c3fff0",
   "metadata": {},
   "outputs": [
    {
     "name": "stdout",
     "output_type": "stream",
     "text": [
      "75.0\n"
     ]
    }
   ],
   "source": [
    "# Here's how we would really write the code using the numpy sum method.\n",
    "# First, we need to import the numpy module\n",
    "\n",
    "import numpy as np\n",
    "\n",
    "total = np.sum(grades)\n",
    "print(total/len(grades))"
   ]
  },
  {
   "cell_type": "code",
   "execution_count": 19,
   "id": "3845c119",
   "metadata": {},
   "outputs": [
    {
     "data": {
      "text/plain": [
       "0    941\n",
       "1    202\n",
       "2    689\n",
       "3    581\n",
       "4    344\n",
       "dtype: int32"
      ]
     },
     "execution_count": 19,
     "metadata": {},
     "output_type": "execute_result"
    }
   ],
   "source": [
    "# Measure how fast the function sum in numpy\n",
    "\n",
    "# First, create a big series of random numbers. This is used a lot when demonstrating\n",
    "# techniques with Pandas\n",
    "numbers = pd.Series(np.random.randint(1,1000,10000)) # Generate 10000 numbers from 1 to 1000\n",
    "\n",
    "# Check whether they are random\n",
    "numbers.head()"
   ]
  },
  {
   "cell_type": "code",
   "execution_count": 20,
   "id": "c5c05bf4",
   "metadata": {},
   "outputs": [
    {
     "data": {
      "text/plain": [
       "10000"
      ]
     },
     "execution_count": 20,
     "metadata": {},
     "output_type": "execute_result"
    }
   ],
   "source": [
    "# verify that length of the series is correct using the len function\n",
    "len(numbers)"
   ]
  },
  {
   "cell_type": "code",
   "execution_count": 21,
   "id": "9316c591",
   "metadata": {},
   "outputs": [],
   "source": [
    "# The ipython interpreter has something called magic functions begin with a\n",
    "# percentage sign. If we type this sign and then hit the Tab key, you can see a list\n",
    "# of the available magic function. You could write your own magic functions too\n"
   ]
  },
  {
   "cell_type": "code",
   "execution_count": 22,
   "id": "ffcda0db",
   "metadata": {},
   "outputs": [],
   "source": [
    "# Cellular magic function. These start with two percentage signs and wrap the\n",
    "# code in the current Jupyter cell. The function we;re trying to use is called timeit.\n",
    "# This function will run our a few times to determine, on average, how long it takes\n",
    "\n",
    "# Run timeit with our original iterative code. You can give the number of loops that \n",
    "# you would like to run. By default, it is 1000 loops. I'll ask timeit here to use 100 runs\n",
    "# because we're recording this. Note that in order to use a cellular magic function, it has \n",
    "# to be the first line in the cell"
   ]
  },
  {
   "cell_type": "code",
   "execution_count": 23,
   "id": "f8b95d9e",
   "metadata": {},
   "outputs": [
    {
     "name": "stdout",
     "output_type": "stream",
     "text": [
      "1.35 ms ± 26.1 µs per loop (mean ± std. dev. of 7 runs, 100 loops each)\n"
     ]
    }
   ],
   "source": [
    "%%timeit -n 100\n",
    "total = 0\n",
    "for number in numbers:\n",
    "    total+=number\n",
    "    \n",
    "total/len(numbers)"
   ]
  },
  {
   "cell_type": "code",
   "execution_count": 24,
   "id": "e6650b6b",
   "metadata": {},
   "outputs": [],
   "source": [
    "# Vectorization"
   ]
  },
  {
   "cell_type": "code",
   "execution_count": 25,
   "id": "fed8b1c1",
   "metadata": {},
   "outputs": [
    {
     "name": "stdout",
     "output_type": "stream",
     "text": [
      "The slowest run took 4.02 times longer than the fastest. This could mean that an intermediate result is being cached.\n",
      "126 µs ± 78.1 µs per loop (mean ± std. dev. of 7 runs, 100 loops each)\n"
     ]
    }
   ],
   "source": [
    "%%timeit -n 100\n",
    "total = np.sum(numbers)\n",
    "total/len(numbers)"
   ]
  },
  {
   "cell_type": "code",
   "execution_count": 26,
   "id": "69a30f6a",
   "metadata": {},
   "outputs": [
    {
     "data": {
      "text/plain": [
       "0    941\n",
       "1    202\n",
       "2    689\n",
       "3    581\n",
       "4    344\n",
       "dtype: int32"
      ]
     },
     "execution_count": 26,
     "metadata": {},
     "output_type": "execute_result"
    }
   ],
   "source": [
    "# A related feature in pandas and numpy is called broadcasting. With broadcasting, you can\n",
    "# apply an operation to every value in the series. Changing the series. For example, if we\n",
    "# wanted to increased every random variable by 2. we could do so quickly using the += operator\n",
    "# directly on the Series object\n",
    "\n",
    "numbers.head()"
   ]
  },
  {
   "cell_type": "code",
   "execution_count": 27,
   "id": "5db13e84",
   "metadata": {},
   "outputs": [
    {
     "data": {
      "text/plain": [
       "0    943\n",
       "1    204\n",
       "2    691\n",
       "3    583\n",
       "4    346\n",
       "dtype: int32"
      ]
     },
     "execution_count": 27,
     "metadata": {},
     "output_type": "execute_result"
    }
   ],
   "source": [
    "# Increase everything in the series by 2\n",
    "numbers+=2\n",
    "numbers.head()"
   ]
  },
  {
   "cell_type": "code",
   "execution_count": 35,
   "id": "411c4cfd",
   "metadata": {},
   "outputs": [
    {
     "ename": "AttributeError",
     "evalue": "'Series' object has no attribute 'set_value'",
     "output_type": "error",
     "traceback": [
      "\u001b[1;31m---------------------------------------------------------------------------\u001b[0m",
      "\u001b[1;31mAttributeError\u001b[0m                            Traceback (most recent call last)",
      "\u001b[1;32m<ipython-input-35-ea45cc989290>\u001b[0m in \u001b[0;36m<module>\u001b[1;34m\u001b[0m\n\u001b[0;32m      6\u001b[0m \u001b[1;32mfor\u001b[0m \u001b[0mlabel\u001b[0m\u001b[1;33m,\u001b[0m \u001b[0mvalue\u001b[0m \u001b[1;32min\u001b[0m \u001b[0mnumbers\u001b[0m\u001b[1;33m.\u001b[0m\u001b[0miteritems\u001b[0m\u001b[1;33m(\u001b[0m\u001b[1;33m)\u001b[0m\u001b[1;33m:\u001b[0m\u001b[1;33m\u001b[0m\u001b[1;33m\u001b[0m\u001b[0m\n\u001b[0;32m      7\u001b[0m \u001b[1;31m#     numbers.at(label,value+2)\u001b[0m\u001b[1;33m\u001b[0m\u001b[1;33m\u001b[0m\u001b[1;33m\u001b[0m\u001b[0m\n\u001b[1;32m----> 8\u001b[1;33m     \u001b[0mnumbers\u001b[0m\u001b[1;33m.\u001b[0m\u001b[0mset_value\u001b[0m\u001b[1;33m(\u001b[0m\u001b[0mlabel\u001b[0m\u001b[1;33m,\u001b[0m \u001b[0mvalue\u001b[0m\u001b[1;33m+\u001b[0m\u001b[1;36m2\u001b[0m\u001b[1;33m)\u001b[0m\u001b[1;33m\u001b[0m\u001b[1;33m\u001b[0m\u001b[0m\n\u001b[0m\u001b[0;32m      9\u001b[0m \u001b[0mnumbers\u001b[0m\u001b[1;33m.\u001b[0m\u001b[0mhead\u001b[0m\u001b[1;33m(\u001b[0m\u001b[1;33m)\u001b[0m\u001b[1;33m\u001b[0m\u001b[1;33m\u001b[0m\u001b[0m\n",
      "\u001b[1;32m~\\anaconda3\\lib\\site-packages\\pandas\\core\\generic.py\u001b[0m in \u001b[0;36m__getattr__\u001b[1;34m(self, name)\u001b[0m\n\u001b[0;32m   5463\u001b[0m             \u001b[1;32mif\u001b[0m \u001b[0mself\u001b[0m\u001b[1;33m.\u001b[0m\u001b[0m_info_axis\u001b[0m\u001b[1;33m.\u001b[0m\u001b[0m_can_hold_identifiers_and_holds_name\u001b[0m\u001b[1;33m(\u001b[0m\u001b[0mname\u001b[0m\u001b[1;33m)\u001b[0m\u001b[1;33m:\u001b[0m\u001b[1;33m\u001b[0m\u001b[1;33m\u001b[0m\u001b[0m\n\u001b[0;32m   5464\u001b[0m                 \u001b[1;32mreturn\u001b[0m \u001b[0mself\u001b[0m\u001b[1;33m[\u001b[0m\u001b[0mname\u001b[0m\u001b[1;33m]\u001b[0m\u001b[1;33m\u001b[0m\u001b[1;33m\u001b[0m\u001b[0m\n\u001b[1;32m-> 5465\u001b[1;33m             \u001b[1;32mreturn\u001b[0m \u001b[0mobject\u001b[0m\u001b[1;33m.\u001b[0m\u001b[0m__getattribute__\u001b[0m\u001b[1;33m(\u001b[0m\u001b[0mself\u001b[0m\u001b[1;33m,\u001b[0m \u001b[0mname\u001b[0m\u001b[1;33m)\u001b[0m\u001b[1;33m\u001b[0m\u001b[1;33m\u001b[0m\u001b[0m\n\u001b[0m\u001b[0;32m   5466\u001b[0m \u001b[1;33m\u001b[0m\u001b[0m\n\u001b[0;32m   5467\u001b[0m     \u001b[1;32mdef\u001b[0m \u001b[0m__setattr__\u001b[0m\u001b[1;33m(\u001b[0m\u001b[0mself\u001b[0m\u001b[1;33m,\u001b[0m \u001b[0mname\u001b[0m\u001b[1;33m:\u001b[0m \u001b[0mstr\u001b[0m\u001b[1;33m,\u001b[0m \u001b[0mvalue\u001b[0m\u001b[1;33m)\u001b[0m \u001b[1;33m->\u001b[0m \u001b[1;32mNone\u001b[0m\u001b[1;33m:\u001b[0m\u001b[1;33m\u001b[0m\u001b[1;33m\u001b[0m\u001b[0m\n",
      "\u001b[1;31mAttributeError\u001b[0m: 'Series' object has no attribute 'set_value'"
     ]
    }
   ],
   "source": [
    "# The procedural way of doing this would be to iterate though all of the items\n",
    "# in the series and increase the values directly. Pandas does support iterating through a series\n",
    "# much like a dictionary, allowing you to unpack values easily.\n",
    "\n",
    "# WE can use the iteritems() function whcih returns a label and value.\n",
    "for label, value in numbers.iteritems():\n",
    "#     numbers.at(label,value+2)\n",
    "    numbers.set_value(label, value+2)\n",
    "numbers.head()"
   ]
  },
  {
   "cell_type": "code",
   "execution_count": 36,
   "id": "5e770a2d",
   "metadata": {},
   "outputs": [],
   "source": [
    "# The .loc attribute lets you not only modify data in place, but also add new\n",
    "# data as well. If the value you pass in as the index doesnt exist, then a new entry is added.\n",
    "# And keep in mind, indices can have mixed types. While it's important to be aware of the typing \n",
    "# going underneath, Pandas will automatically change the underlying NumPy types as appropriate"
   ]
  },
  {
   "cell_type": "code",
   "execution_count": 37,
   "id": "fb87c342",
   "metadata": {},
   "outputs": [
    {
     "data": {
      "text/plain": [
       "0            1\n",
       "1            2\n",
       "2            3\n",
       "History    102\n",
       "dtype: int64"
      ]
     },
     "execution_count": 37,
     "metadata": {},
     "output_type": "execute_result"
    }
   ],
   "source": [
    "# Here's an example\n",
    "s = pd.Series([1,2,3])\n",
    "\n",
    "# We could add some new value\n",
    "s.loc['History'] = 102\n",
    "\n",
    "s"
   ]
  },
  {
   "cell_type": "code",
   "execution_count": 39,
   "id": "6938a376",
   "metadata": {},
   "outputs": [
    {
     "data": {
      "text/plain": [
       "Alice      Physics\n",
       "Jack     Chemistry\n",
       "Molly      English\n",
       "Sam        History\n",
       "dtype: object"
      ]
     },
     "execution_count": 39,
     "metadata": {},
     "output_type": "execute_result"
    }
   ],
   "source": [
    "students_classes = pd.Series({'Alice': 'Physics',\n",
    "                            'Jack': 'Chemistry',\n",
    "                            'Molly': 'English',\n",
    "                            'Sam': 'History'})\n",
    "students_classes"
   ]
  },
  {
   "cell_type": "code",
   "execution_count": 40,
   "id": "01ff7194",
   "metadata": {},
   "outputs": [
    {
     "data": {
      "text/plain": [
       "Kelly    Philosophy\n",
       "Kelly          Arts\n",
       "Kelly          Math\n",
       "dtype: object"
      ]
     },
     "execution_count": 40,
     "metadata": {},
     "output_type": "execute_result"
    }
   ],
   "source": [
    "kelly_classes = pd.Series(['Philosophy', 'Arts', 'Math'], index=['Kelly','Kelly','Kelly'])\n",
    "kelly_classes"
   ]
  },
  {
   "cell_type": "code",
   "execution_count": 41,
   "id": "681954df",
   "metadata": {},
   "outputs": [
    {
     "data": {
      "text/plain": [
       "Alice       Physics\n",
       "Jack      Chemistry\n",
       "Molly       English\n",
       "Sam         History\n",
       "Kelly    Philosophy\n",
       "Kelly          Arts\n",
       "Kelly          Math\n",
       "dtype: object"
      ]
     },
     "execution_count": 41,
     "metadata": {},
     "output_type": "execute_result"
    }
   ],
   "source": [
    "# Append all of the data in this new Series to the first using the .append() function\n",
    "all_students_classes = students_classes.append(kelly_classes)\n",
    "\n",
    "all_students_classes"
   ]
  },
  {
   "cell_type": "code",
   "execution_count": 42,
   "id": "87a6795e",
   "metadata": {},
   "outputs": [
    {
     "data": {
      "text/plain": [
       "Alice      Physics\n",
       "Jack     Chemistry\n",
       "Molly      English\n",
       "Sam        History\n",
       "dtype: object"
      ]
     },
     "execution_count": 42,
     "metadata": {},
     "output_type": "execute_result"
    }
   ],
   "source": [
    "# Some important considerations when using append. First, Pandas will take\n",
    "# the series and try to infer the best data types to use. In this example, everything is a string.\n",
    "# Second, the append method doesnt actually change the underlying Series objects.\n",
    "# It instead returns a new series which is made up of the two appended together. this is a\n",
    "# common pattern in pandas - by default returning a new object instead of modifying in place - and\n",
    "# one you should come to expect. By printing the original series we can see that series hasnt changed\n",
    "students_classes"
   ]
  },
  {
   "cell_type": "code",
   "execution_count": 43,
   "id": "b2993bf5",
   "metadata": {},
   "outputs": [
    {
     "data": {
      "text/plain": [
       "Kelly    Philosophy\n",
       "Kelly          Arts\n",
       "Kelly          Math\n",
       "dtype: object"
      ]
     },
     "execution_count": 43,
     "metadata": {},
     "output_type": "execute_result"
    }
   ],
   "source": [
    "# Finally, we see that when we query the appended series for Kelly, we dont get a single value.\n",
    "# but a series itself\n",
    "all_students_classes.loc['Kelly']"
   ]
  },
  {
   "cell_type": "code",
   "execution_count": null,
   "id": "0939ddcb",
   "metadata": {},
   "outputs": [],
   "source": []
  }
 ],
 "metadata": {
  "kernelspec": {
   "display_name": "Python 3",
   "language": "python",
   "name": "python3"
  },
  "language_info": {
   "codemirror_mode": {
    "name": "ipython",
    "version": 3
   },
   "file_extension": ".py",
   "mimetype": "text/x-python",
   "name": "python",
   "nbconvert_exporter": "python",
   "pygments_lexer": "ipython3",
   "version": "3.8.8"
  }
 },
 "nbformat": 4,
 "nbformat_minor": 5
}
